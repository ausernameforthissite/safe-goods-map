{
 "cells": [
  {
   "cell_type": "markdown",
   "id": "8aa4e372",
   "metadata": {},
   "source": [
    "# legacy code\n",
    "y_columns_names = ['Коды ТН ВЭД ЕАЭС', 'Технические регламенты', 'Группа продукции']\n",
    "X = df.drop(y_columns_names, axis=1)\n",
    "X\n",
    "\n",
    "y = df[y_columns_names]\n",
    "y\n",
    "\n",
    "nlp = spacy.load('ru_core_news_sm', disable=['tagger', 'parser', 'ner', 'entity_linker', 'entity_ruler', 'textcat', 'tokenizer', 'morphologizer', 'attribute_ruler', 'senter', 'sentencizer', 'transformer'])\n",
    "def cleaning(doc):\n",
    "    txt = [token.lemma_ for token in doc if not token.is_stop]\n",
    "    if len(txt) > 1:\n",
    "        return ' '.join(txt)\n",
    "    return txt[0]"
   ]
  },
  {
   "cell_type": "markdown",
   "id": "044dc645",
   "metadata": {},
   "source": [
    "# normalize data"
   ]
  },
  {
   "cell_type": "code",
   "execution_count": 1,
   "id": "bc359004",
   "metadata": {},
   "outputs": [],
   "source": [
    "import pandas as pd\n",
    "import numpy\n",
    "import re\n",
    "from collections import defaultdict\n",
    "import spacy\n",
    "import logging"
   ]
  },
  {
   "cell_type": "code",
   "execution_count": 2,
   "id": "bf5822e9",
   "metadata": {},
   "outputs": [],
   "source": [
    "df = pd.read_excel('датасет 15072022.xlsx').replace('_', ' ')"
   ]
  },
  {
   "cell_type": "code",
   "execution_count": 3,
   "id": "2d95c3d5",
   "metadata": {},
   "outputs": [],
   "source": [
    "nlp = spacy.load(\"ru_core_news_sm\", disable=['parser', 'tagger', 'ner'])\n",
    "\n",
    "def normalize(doc):\n",
    "    doc = nlp(str(doc).lower())\n",
    "    lemmatized = list()\n",
    "    for token in doc:\n",
    "        if not token.is_stop and not token.is_punct:\n",
    "            lemmatized.append(token.lemma_.strip())\n",
    "    return \" \".join(lemmatized)"
   ]
  },
  {
   "cell_type": "code",
   "execution_count": 26,
   "id": "ba35bd51",
   "metadata": {},
   "outputs": [
    {
     "data": {
      "text/plain": [
       "pandas.core.series.Series"
      ]
     },
     "execution_count": 26,
     "metadata": {},
     "output_type": "execute_result"
    }
   ],
   "source": [
    "type(df['Общее наименование продукции'])"
   ]
  },
  {
   "cell_type": "code",
   "execution_count": 4,
   "id": "45d1a6ee",
   "metadata": {},
   "outputs": [
    {
     "name": "stdout",
     "output_type": "stream",
     "text": [
      "PROGRESS 33% ...\n",
      "PROGRESS 66% ...\n"
     ]
    }
   ],
   "source": [
    "norm1 = df['Общее наименование продукции'].apply(normalize)\n",
    "print('PROGRESS 33% ...')\n",
    "norm2 = df['Группа продукции'].apply(normalize)\n",
    "print('PROGRESS 66% ...')\n",
    "norm3 = df['Технические регламенты'].apply(normalize)\n",
    "\n",
    "# df['CLEAN Общее наименование продукции'].apply(normalize)\n",
    "# df['CLEAN Группа продукции'] = df['Группа продукции'].apply(normalize)\n",
    "# df['CLEAN Технические регламенты'] = df['Технические регламенты'].apply(normalize)"
   ]
  },
  {
   "cell_type": "code",
   "execution_count": 5,
   "id": "9e64be22",
   "metadata": {},
   "outputs": [
    {
     "data": {
      "text/plain": [
       "(66753, 3)"
      ]
     },
     "execution_count": 5,
     "metadata": {},
     "output_type": "execute_result"
    }
   ],
   "source": [
    "df_clean = pd.DataFrame({'Общее наименование продукции': norm1, 'Группа продукции': norm2, 'Технические регламенты': norm3})\n",
    "# df_clean = df[['CLEAN Общее наименование продукции', 'CLEAN Группа продукции', 'CLEAN Технические регламенты']].copy()\n",
    "df_clean = df_clean.dropna()\n",
    "df_clean.shape"
   ]
  },
  {
   "cell_type": "code",
   "execution_count": 17,
   "id": "7ebfa52c",
   "metadata": {},
   "outputs": [
    {
     "data": {
      "text/html": [
       "<div>\n",
       "<style scoped>\n",
       "    .dataframe tbody tr th:only-of-type {\n",
       "        vertical-align: middle;\n",
       "    }\n",
       "\n",
       "    .dataframe tbody tr th {\n",
       "        vertical-align: top;\n",
       "    }\n",
       "\n",
       "    .dataframe thead th {\n",
       "        text-align: right;\n",
       "    }\n",
       "</style>\n",
       "<table border=\"1\" class=\"dataframe\">\n",
       "  <thead>\n",
       "    <tr style=\"text-align: right;\">\n",
       "      <th></th>\n",
       "      <th>Общее наименование продукции</th>\n",
       "      <th>Группа продукции</th>\n",
       "      <th>Технические регламенты</th>\n",
       "    </tr>\n",
       "  </thead>\n",
       "  <tbody>\n",
       "    <tr>\n",
       "      <th>0</th>\n",
       "      <td>проходка кабельный модульный универсальный огн...</td>\n",
       "      <td>узел пересечение противопожарный преграда кабе...</td>\n",
       "      <td>тр еаэс 043/2017 требование средство обеспечен...</td>\n",
       "    </tr>\n",
       "    <tr>\n",
       "      <th>1</th>\n",
       "      <td>ворота противопожарный металлический распашной...</td>\n",
       "      <td>противопожарный окно дверь дверь шахта лифт но...</td>\n",
       "      <td>тр еаэс 043/2017 требование средство обеспечен...</td>\n",
       "    </tr>\n",
       "    <tr>\n",
       "      <th>2</th>\n",
       "      <td>клапаны противопожарный марка кпв.01(ei60 прям...</td>\n",
       "      <td>клапан противопожарный нормально открытый клап...</td>\n",
       "      <td>тр еаэс 043/2017 требование средство обеспечен...</td>\n",
       "    </tr>\n",
       "    <tr>\n",
       "      <th>3</th>\n",
       "      <td>вентилятор крышный радиальный дымоудаления вых...</td>\n",
       "      <td>вытяжной вентилятор</td>\n",
       "      <td>тр еаэс 043/2017 требование средство обеспечен...</td>\n",
       "    </tr>\n",
       "    <tr>\n",
       "      <th>4</th>\n",
       "      <td>вентилятор радиальный дымоудаления тип вр-80 7...</td>\n",
       "      <td>вытяжной вентилятор</td>\n",
       "      <td>тр еаэс 043/2017 требование средство обеспечен...</td>\n",
       "    </tr>\n",
       "    <tr>\n",
       "      <th>...</th>\n",
       "      <td>...</td>\n",
       "      <td>...</td>\n",
       "      <td>...</td>\n",
       "    </tr>\n",
       "    <tr>\n",
       "      <th>66748</th>\n",
       "      <td>блок пробоотборный обогреваемый</td>\n",
       "      <td>электрический электрооборудование неэлектричес...</td>\n",
       "      <td>тр тс 012/2011 безопасность оборудование работ...</td>\n",
       "    </tr>\n",
       "    <tr>\n",
       "      <th>66749</th>\n",
       "      <td>система отбор проба природный газ</td>\n",
       "      <td>электрический электрооборудование неэлектричес...</td>\n",
       "      <td>тр тс 012/2011 безопасность оборудование работ...</td>\n",
       "    </tr>\n",
       "    <tr>\n",
       "      <th>66750</th>\n",
       "      <td>фильтр</td>\n",
       "      <td>электрический электрооборудование неэлектричес...</td>\n",
       "      <td>тр тс 012/2011 безопасность оборудование работ...</td>\n",
       "    </tr>\n",
       "    <tr>\n",
       "      <th>66751</th>\n",
       "      <td>элемент трубопровод</td>\n",
       "      <td>элемент оборудование сборочный единица комплек...</td>\n",
       "      <td>тр тс 032/2013 безопасность оборудование работ...</td>\n",
       "    </tr>\n",
       "    <tr>\n",
       "      <th>66752</th>\n",
       "      <td>станция газозаправочный автомобильный</td>\n",
       "      <td>электрический электрооборудование неэлектричес...</td>\n",
       "      <td>тр тс 012/2011 безопасность оборудование работ...</td>\n",
       "    </tr>\n",
       "  </tbody>\n",
       "</table>\n",
       "<p>66753 rows × 3 columns</p>\n",
       "</div>"
      ],
      "text/plain": [
       "                            Общее наименование продукции  \\\n",
       "0      проходка кабельный модульный универсальный огн...   \n",
       "1      ворота противопожарный металлический распашной...   \n",
       "2      клапаны противопожарный марка кпв.01(ei60 прям...   \n",
       "3      вентилятор крышный радиальный дымоудаления вых...   \n",
       "4      вентилятор радиальный дымоудаления тип вр-80 7...   \n",
       "...                                                  ...   \n",
       "66748                    блок пробоотборный обогреваемый   \n",
       "66749                  система отбор проба природный газ   \n",
       "66750                                             фильтр   \n",
       "66751                                элемент трубопровод   \n",
       "66752              станция газозаправочный автомобильный   \n",
       "\n",
       "                                        Группа продукции  \\\n",
       "0      узел пересечение противопожарный преграда кабе...   \n",
       "1      противопожарный окно дверь дверь шахта лифт но...   \n",
       "2      клапан противопожарный нормально открытый клап...   \n",
       "3                                    вытяжной вентилятор   \n",
       "4                                    вытяжной вентилятор   \n",
       "...                                                  ...   \n",
       "66748  электрический электрооборудование неэлектричес...   \n",
       "66749  электрический электрооборудование неэлектричес...   \n",
       "66750  электрический электрооборудование неэлектричес...   \n",
       "66751  элемент оборудование сборочный единица комплек...   \n",
       "66752  электрический электрооборудование неэлектричес...   \n",
       "\n",
       "                                  Технические регламенты  \n",
       "0      тр еаэс 043/2017 требование средство обеспечен...  \n",
       "1      тр еаэс 043/2017 требование средство обеспечен...  \n",
       "2      тр еаэс 043/2017 требование средство обеспечен...  \n",
       "3      тр еаэс 043/2017 требование средство обеспечен...  \n",
       "4      тр еаэс 043/2017 требование средство обеспечен...  \n",
       "...                                                  ...  \n",
       "66748  тр тс 012/2011 безопасность оборудование работ...  \n",
       "66749  тр тс 012/2011 безопасность оборудование работ...  \n",
       "66750  тр тс 012/2011 безопасность оборудование работ...  \n",
       "66751  тр тс 032/2013 безопасность оборудование работ...  \n",
       "66752  тр тс 012/2011 безопасность оборудование работ...  \n",
       "\n",
       "[66753 rows x 3 columns]"
      ]
     },
     "execution_count": 17,
     "metadata": {},
     "output_type": "execute_result"
    }
   ],
   "source": [
    "df_clean"
   ]
  },
  {
   "cell_type": "code",
   "execution_count": 6,
   "id": "1f407099",
   "metadata": {},
   "outputs": [],
   "source": [
    "from gensim.models.phrases import Phrases, Phraser\n",
    "sent0 = [row.split() for row in df_clean['Общее наименование продукции']]\n",
    "sent1 = [row.split() for row in df_clean['Группа продукции']]\n",
    "sent2 = [row.split() for row in df_clean['Технические регламенты']]\n",
    "sent = []\n",
    "for i in range(len(sent1)):\n",
    "    sent.append(sent0[i] + sent1[i] + sent2[i])"
   ]
  },
  {
   "cell_type": "markdown",
   "id": "49625d25",
   "metadata": {},
   "source": [
    "# Word2Vec"
   ]
  },
  {
   "cell_type": "code",
   "execution_count": 7,
   "id": "12fb4a35",
   "metadata": {
    "scrolled": true
   },
   "outputs": [
    {
     "data": {
      "text/plain": [
       "48493"
      ]
     },
     "execution_count": 7,
     "metadata": {},
     "output_type": "execute_result"
    }
   ],
   "source": [
    "phrases = Phrases(sent, min_count=30, progress_per=10000)\n",
    "bigram = Phraser(phrases)\n",
    "sentences = bigram[sent]\n",
    "word_freq = defaultdict(int)\n",
    "for sent in sentences:\n",
    "    for i in sent:\n",
    "        word_freq[i] += 1\n",
    "len(word_freq)"
   ]
  },
  {
   "cell_type": "code",
   "execution_count": 8,
   "id": "2d9e77c5",
   "metadata": {},
   "outputs": [],
   "source": [
    "import multiprocessing\n",
    "from gensim.models import Word2Vec\n",
    "cores = multiprocessing.cpu_count()\n",
    "w2v_model = Word2Vec(min_count=5, window=2, sample=6e-5, alpha=0.03, min_alpha=0.0007, negative=20, workers=cores-1)"
   ]
  },
  {
   "cell_type": "code",
   "execution_count": 9,
   "id": "47bc882a",
   "metadata": {},
   "outputs": [],
   "source": [
    "w2v_model.build_vocab(sentences, progress_per=10000)"
   ]
  },
  {
   "cell_type": "code",
   "execution_count": 10,
   "id": "bf13be54",
   "metadata": {},
   "outputs": [
    {
     "data": {
      "text/plain": [
       "(19822050, 52847880)"
      ]
     },
     "execution_count": 10,
     "metadata": {},
     "output_type": "execute_result"
    }
   ],
   "source": [
    "w2v_model.train(sentences, total_examples=w2v_model.corpus_count, epochs=30, report_delay=1)"
   ]
  },
  {
   "cell_type": "code",
   "execution_count": 11,
   "id": "45a70644",
   "metadata": {},
   "outputs": [
    {
     "name": "stderr",
     "output_type": "stream",
     "text": [
      "/tmp/ipykernel_7719/514372312.py:1: DeprecationWarning: Call to deprecated `init_sims` (Gensim 4.0.0 implemented internal optimizations that make calls to init_sims() unnecessary. init_sims() is now obsoleted and will be completely removed in future versions. See https://github.com/RaRe-Technologies/gensim/wiki/Migrating-from-Gensim-3.x-to-4).\n",
      "  w2v_model.init_sims(replace=True)\n"
     ]
    }
   ],
   "source": [
    "w2v_model.init_sims(replace=True)"
   ]
  },
  {
   "cell_type": "markdown",
   "id": "3a5ae64b",
   "metadata": {},
   "source": [
    "# optional visualization"
   ]
  },
  {
   "cell_type": "code",
   "execution_count": 12,
   "id": "a4fdb14e",
   "metadata": {},
   "outputs": [
    {
     "data": {
      "text/plain": [
       "0.1950113"
      ]
     },
     "execution_count": 12,
     "metadata": {},
     "output_type": "execute_result"
    }
   ],
   "source": [
    "w2v_model.wv.similarity(\"адаптер\", 'асинхронный')"
   ]
  },
  {
   "cell_type": "code",
   "execution_count": 13,
   "id": "62d0844d",
   "metadata": {},
   "outputs": [
    {
     "data": {
      "text/plain": [
       "[('осевой', 0.7823437452316284),\n",
       " ('вентилятор_вентилятор', 0.7431402206420898),\n",
       " ('крышный_радиальный', 0.7173740863800049),\n",
       " ('радиальный', 0.7078759670257568),\n",
       " ('проветривание', 0.7050995826721191),\n",
       " ('радиальный_дымоудаления', 0.6305767297744751),\n",
       " ('дымоудаления', 0.6229865550994873),\n",
       " ('аксипал', 0.6215609312057495),\n",
       " ('тепловентилятор', 0.6091592311859131),\n",
       " ('пылеподавление', 0.6007325649261475)]"
      ]
     },
     "execution_count": 13,
     "metadata": {},
     "output_type": "execute_result"
    }
   ],
   "source": [
    "w2v_model.wv.most_similar(positive=[\"вентилятор\"])"
   ]
  },
  {
   "cell_type": "markdown",
   "id": "970aa110",
   "metadata": {},
   "source": [
    "# export vectors"
   ]
  },
  {
   "cell_type": "code",
   "execution_count": 14,
   "id": "e6819e49",
   "metadata": {},
   "outputs": [
    {
     "name": "stdout",
     "output_type": "stream",
     "text": [
      "100 10109\n"
     ]
    }
   ],
   "source": [
    "print(w2v_model.wv.vectors.shape[1], w2v_model.wv.vectors.shape[0])"
   ]
  },
  {
   "cell_type": "code",
   "execution_count": 15,
   "id": "ac35b718",
   "metadata": {},
   "outputs": [],
   "source": [
    "with open(\"Output.txt\", \"w\") as text_file:\n",
    "    text_file.write(str(w2v_model.wv.vectors.shape[0]) + ' ' + str(w2v_model.wv.vectors.shape[1]) + '\\r\\n')\n",
    "    for i in range(len(w2v_model.wv.index_to_key)):\n",
    "        final = ''\n",
    "        for j in range(len(w2v_model.wv.vectors[i])):\n",
    "            final += str(w2v_model.wv.vectors[i][j]) + ' '\n",
    "        text_file.write(str(w2v_model.wv.index_to_key[i]) + ' ' + final + '\\r\\n')"
   ]
  },
  {
   "cell_type": "markdown",
   "id": "aab6d77b",
   "metadata": {},
   "source": [
    "# save normalized name as an extra column"
   ]
  },
  {
   "cell_type": "code",
   "execution_count": 18,
   "id": "573e19c5",
   "metadata": {},
   "outputs": [
    {
     "data": {
      "text/html": [
       "<div>\n",
       "<style scoped>\n",
       "    .dataframe tbody tr th:only-of-type {\n",
       "        vertical-align: middle;\n",
       "    }\n",
       "\n",
       "    .dataframe tbody tr th {\n",
       "        vertical-align: top;\n",
       "    }\n",
       "\n",
       "    .dataframe thead th {\n",
       "        text-align: right;\n",
       "    }\n",
       "</style>\n",
       "<table border=\"1\" class=\"dataframe\">\n",
       "  <thead>\n",
       "    <tr style=\"text-align: right;\">\n",
       "      <th></th>\n",
       "      <th>Номер продукции</th>\n",
       "      <th>Коды ТН ВЭД ЕАЭС</th>\n",
       "      <th>Технические регламенты</th>\n",
       "      <th>Группа продукции</th>\n",
       "      <th>Общее наименование продукции</th>\n",
       "      <th>ИЛ</th>\n",
       "      <th>Заявитель</th>\n",
       "      <th>Адрес Заявителя</th>\n",
       "      <th>Изготовитель</th>\n",
       "      <th>Страна</th>\n",
       "      <th>Адрес изготовителя</th>\n",
       "      <th>NORMALIZED</th>\n",
       "    </tr>\n",
       "  </thead>\n",
       "  <tbody>\n",
       "    <tr>\n",
       "      <th>0</th>\n",
       "      <td>37632 Продукция</td>\n",
       "      <td>4016999708</td>\n",
       "      <td>ТР ЕАЭС 043/2017 О требованиях к средствам обе...</td>\n",
       "      <td>Узлы пересечения противопожарных преград кабел...</td>\n",
       "      <td>Проходки кабельные модульные универсальные огн...</td>\n",
       "      <td>ИЛ Мопалия Миддендорфа</td>\n",
       "      <td>ООО Европейский гологлаз 6</td>\n",
       "      <td>РОССИЯ 461220 БАРАБАНОВКА ОРЕНБУРГСКАЯ ОБЛАСТЬ</td>\n",
       "      <td>ООО Ара Леара 11</td>\n",
       "      <td>РОССИЯ</td>\n",
       "      <td>РОССИЯ 182375 ЛУКИНО ПСКОВСКАЯ ОБЛАСТЬ</td>\n",
       "      <td>проходка кабельный модульный универсальный огн...</td>\n",
       "    </tr>\n",
       "    <tr>\n",
       "      <th>1</th>\n",
       "      <td>37565 Продукция</td>\n",
       "      <td>7308909809</td>\n",
       "      <td>ТР ЕАЭС 043/2017 О требованиях к средствам обе...</td>\n",
       "      <td>Противопожарные окна, двери, двери шахт лифтов...</td>\n",
       "      <td>Ворота противопожарные металлические распашные...</td>\n",
       "      <td>ИЛ Мопалия Миддендорфа</td>\n",
       "      <td>ООО Дроздовидная6</td>\n",
       "      <td>РОССИЯ 461182 ШЕСТАКОВКА ОРЕНБУРГСКАЯ ОБЛАСТЬ</td>\n",
       "      <td>ООО Аннамский палочник 11</td>\n",
       "      <td>РОССИЯ</td>\n",
       "      <td>РОССИЯ 182306 ПОДДУБЬЕ ПСКОВСКАЯ ОБЛАСТЬ</td>\n",
       "      <td>ворота противопожарный металлический распашной...</td>\n",
       "    </tr>\n",
       "    <tr>\n",
       "      <th>2</th>\n",
       "      <td>2112 Продукция</td>\n",
       "      <td>8415900009; 8415900009; 8415900009; 8415900009...</td>\n",
       "      <td>ТР ЕАЭС 043/2017 О требованиях к средствам обе...</td>\n",
       "      <td>Клапаны противопожарные нормально открытые, кл...</td>\n",
       "      <td>Клапаны противопожарные марки КПВ.01(EI60) пря...</td>\n",
       "      <td>ИЛ Мопалия Миддендорфа</td>\n",
       "      <td>ООО Малая белая цапля1</td>\n",
       "      <td>РОССИЯ 162833 ДОЛОЦКОЕ ВОЛОГОДСКАЯ ОБЛАСТЬ</td>\n",
       "      <td>Phelsuma serraticauda 1 LTD</td>\n",
       "      <td>ТУРЦИЯ</td>\n",
       "      <td>TR 49400 Muş Muratkolu</td>\n",
       "      <td>клапаны противопожарный марка кпв.01(ei60 прям...</td>\n",
       "    </tr>\n",
       "    <tr>\n",
       "      <th>3</th>\n",
       "      <td>50677 Продукция</td>\n",
       "      <td>8414594000</td>\n",
       "      <td>ТР ЕАЭС 043/2017 О требованиях к средствам обе...</td>\n",
       "      <td>Вытяжные вентиляторы</td>\n",
       "      <td>Вентиляторы крышные радиальные дымоудаления с ...</td>\n",
       "      <td>ИЛ Мопалия Миддендорфа</td>\n",
       "      <td>ООО Малая белая цапля1</td>\n",
       "      <td>РОССИЯ 162833 ДОЛОЦКОЕ ВОЛОГОДСКАЯ ОБЛАСТЬ</td>\n",
       "      <td>Phelsuma serraticauda 1 LTD</td>\n",
       "      <td>ТУРЦИЯ</td>\n",
       "      <td>TR 49400 Muş Muratkolu</td>\n",
       "      <td>вентилятор крышный радиальный дымоудаления вых...</td>\n",
       "    </tr>\n",
       "    <tr>\n",
       "      <th>4</th>\n",
       "      <td>51009 Продукция</td>\n",
       "      <td>8414594000</td>\n",
       "      <td>ТР ЕАЭС 043/2017 О требованиях к средствам обе...</td>\n",
       "      <td>Вытяжные вентиляторы</td>\n",
       "      <td>Вентиляторы радиальные дымоудаления типов ВР-8...</td>\n",
       "      <td>ИЛ Мопалия Миддендорфа</td>\n",
       "      <td>ООО Малая белая цапля1</td>\n",
       "      <td>РОССИЯ 162833 ДОЛОЦКОЕ ВОЛОГОДСКАЯ ОБЛАСТЬ</td>\n",
       "      <td>Phelsuma serraticauda 1 LTD</td>\n",
       "      <td>ТУРЦИЯ</td>\n",
       "      <td>TR 49400 Muş Muratkolu</td>\n",
       "      <td>вентилятор радиальный дымоудаления тип вр-80 7...</td>\n",
       "    </tr>\n",
       "    <tr>\n",
       "      <th>...</th>\n",
       "      <td>...</td>\n",
       "      <td>...</td>\n",
       "      <td>...</td>\n",
       "      <td>...</td>\n",
       "      <td>...</td>\n",
       "      <td>...</td>\n",
       "      <td>...</td>\n",
       "      <td>...</td>\n",
       "      <td>...</td>\n",
       "      <td>...</td>\n",
       "      <td>...</td>\n",
       "      <td>...</td>\n",
       "    </tr>\n",
       "    <tr>\n",
       "      <th>66748</th>\n",
       "      <td>13 Продукция</td>\n",
       "      <td>NaN</td>\n",
       "      <td>ТР ТС 012/2011 О безопасности оборудования для...</td>\n",
       "      <td>Электрическое (электрооборудование) и неэлектр...</td>\n",
       "      <td>Блок пробоотборный обогреваемый</td>\n",
       "      <td>ИЛ Пестрая афродита</td>\n",
       "      <td>ООО Азиатская золотая кошка 1</td>\n",
       "      <td>РОССИЯ 679157 АУР ЕВРЕЙСКАЯ АВТОНОМНАЯ ОБЛАСТЬ</td>\n",
       "      <td>Catopuma temmincki 1 LTD</td>\n",
       "      <td>АЛЖИР</td>\n",
       "      <td>DZ 03000 L.Aghouat Laghouat Air</td>\n",
       "      <td>блок пробоотборный обогреваемый</td>\n",
       "    </tr>\n",
       "    <tr>\n",
       "      <th>66749</th>\n",
       "      <td>29 Продукция</td>\n",
       "      <td>NaN</td>\n",
       "      <td>ТР ТС 012/2011 О безопасности оборудования для...</td>\n",
       "      <td>Электрическое (электрооборудование) и неэлектр...</td>\n",
       "      <td>Система отбора проб природного газа</td>\n",
       "      <td>ИЛ Пестрая афродита</td>\n",
       "      <td>ООО Азиатская золотая кошка 1</td>\n",
       "      <td>РОССИЯ 679157 АУР ЕВРЕЙСКАЯ АВТОНОМНАЯ ОБЛАСТЬ</td>\n",
       "      <td>Catopuma temmincki 1 LTD</td>\n",
       "      <td>АЛЖИР</td>\n",
       "      <td>DZ 03000 L.Aghouat Laghouat Air</td>\n",
       "      <td>система отбор проба природный газ</td>\n",
       "    </tr>\n",
       "    <tr>\n",
       "      <th>66750</th>\n",
       "      <td>41883 Продукция</td>\n",
       "      <td>7311009100</td>\n",
       "      <td>ТР ТС 012/2011 О безопасности оборудования для...</td>\n",
       "      <td>Электрическое (электрооборудование) и неэлектр...</td>\n",
       "      <td>Фильтры</td>\n",
       "      <td>ИЛ Рак-богомол</td>\n",
       "      <td>ООО Азиатская золотая кошка 1</td>\n",
       "      <td>РОССИЯ 679157 АУР ЕВРЕЙСКАЯ АВТОНОМНАЯ ОБЛАСТЬ</td>\n",
       "      <td>Catopuma temmincki 1 LTD</td>\n",
       "      <td>АЛЖИР</td>\n",
       "      <td>DZ 03000 L.Aghouat Laghouat Air</td>\n",
       "      <td>фильтр</td>\n",
       "    </tr>\n",
       "    <tr>\n",
       "      <th>66751</th>\n",
       "      <td>59784 Продукция</td>\n",
       "      <td>7307998009; 7307910000</td>\n",
       "      <td>ТР ТС 032/2013 О безопасности оборудования, ра...</td>\n",
       "      <td>Элементы оборудования (сборочные единицы) и ко...</td>\n",
       "      <td>Элементы трубопроводов</td>\n",
       "      <td>ИЛ Пестрая афродита</td>\n",
       "      <td>ООО Азиатская золотая кошка 1</td>\n",
       "      <td>РОССИЯ 679157 АУР ЕВРЕЙСКАЯ АВТОНОМНАЯ ОБЛАСТЬ</td>\n",
       "      <td>Catopuma temmincki 1 LTD</td>\n",
       "      <td>АЛЖИР</td>\n",
       "      <td>DZ 03000 L.Aghouat Laghouat Air</td>\n",
       "      <td>элемент трубопровод</td>\n",
       "    </tr>\n",
       "    <tr>\n",
       "      <th>66752</th>\n",
       "      <td>1 Продукция</td>\n",
       "      <td>NaN</td>\n",
       "      <td>ТР ТС 012/2011 О безопасности оборудования для...</td>\n",
       "      <td>Электрическое (электрооборудование) и неэлектр...</td>\n",
       "      <td>Станция газозаправочная (автомобильная)</td>\n",
       "      <td>ИЛ Пестрая афродита</td>\n",
       "      <td>ООО Абиссинский голубь1</td>\n",
       "      <td>РОССИЯ 679100 ОБЛУЧЬЕ ЕВРЕЙСКАЯ АВТОНОМНАЯ ОБЛ...</td>\n",
       "      <td>Phalacroteron abyssinica 1 LTD</td>\n",
       "      <td>АНДОРРА</td>\n",
       "      <td>AD AD100 Canillo Canillo</td>\n",
       "      <td>станция газозаправочный автомобильный</td>\n",
       "    </tr>\n",
       "  </tbody>\n",
       "</table>\n",
       "<p>66753 rows × 12 columns</p>\n",
       "</div>"
      ],
      "text/plain": [
       "       Номер продукции                                   Коды ТН ВЭД ЕАЭС  \\\n",
       "0      37632 Продукция                                         4016999708   \n",
       "1      37565 Продукция                                         7308909809   \n",
       "2       2112 Продукция  8415900009; 8415900009; 8415900009; 8415900009...   \n",
       "3      50677 Продукция                                         8414594000   \n",
       "4      51009 Продукция                                         8414594000   \n",
       "...                ...                                                ...   \n",
       "66748     13 Продукция                                                NaN   \n",
       "66749     29 Продукция                                                NaN   \n",
       "66750  41883 Продукция                                         7311009100   \n",
       "66751  59784 Продукция                             7307998009; 7307910000   \n",
       "66752      1 Продукция                                                NaN   \n",
       "\n",
       "                                  Технические регламенты  \\\n",
       "0      ТР ЕАЭС 043/2017 О требованиях к средствам обе...   \n",
       "1      ТР ЕАЭС 043/2017 О требованиях к средствам обе...   \n",
       "2      ТР ЕАЭС 043/2017 О требованиях к средствам обе...   \n",
       "3      ТР ЕАЭС 043/2017 О требованиях к средствам обе...   \n",
       "4      ТР ЕАЭС 043/2017 О требованиях к средствам обе...   \n",
       "...                                                  ...   \n",
       "66748  ТР ТС 012/2011 О безопасности оборудования для...   \n",
       "66749  ТР ТС 012/2011 О безопасности оборудования для...   \n",
       "66750  ТР ТС 012/2011 О безопасности оборудования для...   \n",
       "66751  ТР ТС 032/2013 О безопасности оборудования, ра...   \n",
       "66752  ТР ТС 012/2011 О безопасности оборудования для...   \n",
       "\n",
       "                                        Группа продукции  \\\n",
       "0      Узлы пересечения противопожарных преград кабел...   \n",
       "1      Противопожарные окна, двери, двери шахт лифтов...   \n",
       "2      Клапаны противопожарные нормально открытые, кл...   \n",
       "3                                   Вытяжные вентиляторы   \n",
       "4                                   Вытяжные вентиляторы   \n",
       "...                                                  ...   \n",
       "66748  Электрическое (электрооборудование) и неэлектр...   \n",
       "66749  Электрическое (электрооборудование) и неэлектр...   \n",
       "66750  Электрическое (электрооборудование) и неэлектр...   \n",
       "66751  Элементы оборудования (сборочные единицы) и ко...   \n",
       "66752  Электрическое (электрооборудование) и неэлектр...   \n",
       "\n",
       "                            Общее наименование продукции  \\\n",
       "0      Проходки кабельные модульные универсальные огн...   \n",
       "1      Ворота противопожарные металлические распашные...   \n",
       "2      Клапаны противопожарные марки КПВ.01(EI60) пря...   \n",
       "3      Вентиляторы крышные радиальные дымоудаления с ...   \n",
       "4      Вентиляторы радиальные дымоудаления типов ВР-8...   \n",
       "...                                                  ...   \n",
       "66748                    Блок пробоотборный обогреваемый   \n",
       "66749                Система отбора проб природного газа   \n",
       "66750                                            Фильтры   \n",
       "66751                             Элементы трубопроводов   \n",
       "66752            Станция газозаправочная (автомобильная)   \n",
       "\n",
       "                           ИЛ                      Заявитель  \\\n",
       "0      ИЛ Мопалия Миддендорфа     ООО Европейский гологлаз 6   \n",
       "1      ИЛ Мопалия Миддендорфа              ООО Дроздовидная6   \n",
       "2      ИЛ Мопалия Миддендорфа         ООО Малая белая цапля1   \n",
       "3      ИЛ Мопалия Миддендорфа         ООО Малая белая цапля1   \n",
       "4      ИЛ Мопалия Миддендорфа         ООО Малая белая цапля1   \n",
       "...                       ...                            ...   \n",
       "66748    ИЛ Пестрая афродита   ООО Азиатская золотая кошка 1   \n",
       "66749    ИЛ Пестрая афродита   ООО Азиатская золотая кошка 1   \n",
       "66750         ИЛ Рак-богомол   ООО Азиатская золотая кошка 1   \n",
       "66751    ИЛ Пестрая афродита   ООО Азиатская золотая кошка 1   \n",
       "66752    ИЛ Пестрая афродита         ООО Абиссинский голубь1   \n",
       "\n",
       "                                         Адрес Заявителя  \\\n",
       "0         РОССИЯ 461220 БАРАБАНОВКА ОРЕНБУРГСКАЯ ОБЛАСТЬ   \n",
       "1          РОССИЯ 461182 ШЕСТАКОВКА ОРЕНБУРГСКАЯ ОБЛАСТЬ   \n",
       "2             РОССИЯ 162833 ДОЛОЦКОЕ ВОЛОГОДСКАЯ ОБЛАСТЬ   \n",
       "3             РОССИЯ 162833 ДОЛОЦКОЕ ВОЛОГОДСКАЯ ОБЛАСТЬ   \n",
       "4             РОССИЯ 162833 ДОЛОЦКОЕ ВОЛОГОДСКАЯ ОБЛАСТЬ   \n",
       "...                                                  ...   \n",
       "66748     РОССИЯ 679157 АУР ЕВРЕЙСКАЯ АВТОНОМНАЯ ОБЛАСТЬ   \n",
       "66749     РОССИЯ 679157 АУР ЕВРЕЙСКАЯ АВТОНОМНАЯ ОБЛАСТЬ   \n",
       "66750     РОССИЯ 679157 АУР ЕВРЕЙСКАЯ АВТОНОМНАЯ ОБЛАСТЬ   \n",
       "66751     РОССИЯ 679157 АУР ЕВРЕЙСКАЯ АВТОНОМНАЯ ОБЛАСТЬ   \n",
       "66752  РОССИЯ 679100 ОБЛУЧЬЕ ЕВРЕЙСКАЯ АВТОНОМНАЯ ОБЛ...   \n",
       "\n",
       "                         Изготовитель   Страна  \\\n",
       "0                    ООО Ара Леара 11   РОССИЯ   \n",
       "1           ООО Аннамский палочник 11   РОССИЯ   \n",
       "2         Phelsuma serraticauda 1 LTD   ТУРЦИЯ   \n",
       "3         Phelsuma serraticauda 1 LTD   ТУРЦИЯ   \n",
       "4         Phelsuma serraticauda 1 LTD   ТУРЦИЯ   \n",
       "...                               ...      ...   \n",
       "66748        Catopuma temmincki 1 LTD    АЛЖИР   \n",
       "66749        Catopuma temmincki 1 LTD    АЛЖИР   \n",
       "66750        Catopuma temmincki 1 LTD    АЛЖИР   \n",
       "66751        Catopuma temmincki 1 LTD    АЛЖИР   \n",
       "66752  Phalacroteron abyssinica 1 LTD  АНДОРРА   \n",
       "\n",
       "                             Адрес изготовителя  \\\n",
       "0        РОССИЯ 182375 ЛУКИНО ПСКОВСКАЯ ОБЛАСТЬ   \n",
       "1      РОССИЯ 182306 ПОДДУБЬЕ ПСКОВСКАЯ ОБЛАСТЬ   \n",
       "2                        TR 49400 Muş Muratkolu   \n",
       "3                        TR 49400 Muş Muratkolu   \n",
       "4                        TR 49400 Muş Muratkolu   \n",
       "...                                         ...   \n",
       "66748           DZ 03000 L.Aghouat Laghouat Air   \n",
       "66749           DZ 03000 L.Aghouat Laghouat Air   \n",
       "66750           DZ 03000 L.Aghouat Laghouat Air   \n",
       "66751           DZ 03000 L.Aghouat Laghouat Air   \n",
       "66752                  AD AD100 Canillo Canillo   \n",
       "\n",
       "                                              NORMALIZED  \n",
       "0      проходка кабельный модульный универсальный огн...  \n",
       "1      ворота противопожарный металлический распашной...  \n",
       "2      клапаны противопожарный марка кпв.01(ei60 прям...  \n",
       "3      вентилятор крышный радиальный дымоудаления вых...  \n",
       "4      вентилятор радиальный дымоудаления тип вр-80 7...  \n",
       "...                                                  ...  \n",
       "66748                    блок пробоотборный обогреваемый  \n",
       "66749                  система отбор проба природный газ  \n",
       "66750                                             фильтр  \n",
       "66751                                элемент трубопровод  \n",
       "66752              станция газозаправочный автомобильный  \n",
       "\n",
       "[66753 rows x 12 columns]"
      ]
     },
     "execution_count": 18,
     "metadata": {},
     "output_type": "execute_result"
    }
   ],
   "source": [
    "df['NORMALIZED'] = df_clean['Общее наименование продукции']\n",
    "df"
   ]
  },
  {
   "cell_type": "code",
   "execution_count": 19,
   "id": "a1957776",
   "metadata": {},
   "outputs": [],
   "source": [
    "df.to_excel(\"normalized.xlsx\")"
   ]
  },
  {
   "cell_type": "code",
   "execution_count": null,
   "id": "e254b338",
   "metadata": {},
   "outputs": [],
   "source": []
  }
 ],
 "metadata": {
  "kernelspec": {
   "display_name": "Python 3 (ipykernel)",
   "language": "python",
   "name": "python3"
  },
  "language_info": {
   "codemirror_mode": {
    "name": "ipython",
    "version": 3
   },
   "file_extension": ".py",
   "mimetype": "text/x-python",
   "name": "python",
   "nbconvert_exporter": "python",
   "pygments_lexer": "ipython3",
   "version": "3.10.5"
  }
 },
 "nbformat": 4,
 "nbformat_minor": 5
}
